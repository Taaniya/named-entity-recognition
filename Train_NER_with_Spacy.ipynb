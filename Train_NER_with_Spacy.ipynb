{
  "nbformat": 4,
  "nbformat_minor": 0,
  "metadata": {
    "colab": {
      "name": "Train_NER_with_Spacy_to_commit_to_Git.ipynb",
      "provenance": [],
      "collapsed_sections": []
    },
    "kernelspec": {
      "name": "python3",
      "display_name": "Python 3"
    }
  },
  "cells": [
    {
      "cell_type": "code",
      "metadata": {
        "id": "3X9qkvs2Zt_e"
      },
      "source": [
        "import plac\r\n",
        "import random\r\n",
        "import warnings\r\n",
        "from pathlib import Path\r\n",
        "import spacy\r\n",
        "from spacy.util import minibatch, compounding"
      ],
      "execution_count": null,
      "outputs": []
    },
    {
      "cell_type": "code",
      "metadata": {
        "id": "UrgBEyyhilqo"
      },
      "source": [
        "# Set the model, model directory & training iterations\r\n",
        "\r\n",
        "model = None\r\n",
        "model_dir = \"ner_model\"\r\n",
        "n_iter = 30"
      ],
      "execution_count": null,
      "outputs": []
    },
    {
      "cell_type": "code",
      "metadata": {
        "id": "dh-0nHybZw3w"
      },
      "source": [
        "# Entity label\r\n",
        "\r\n",
        "LABEL = \"MONEY\""
      ],
      "execution_count": null,
      "outputs": []
    },
    {
      "cell_type": "code",
      "metadata": {
        "id": "CGXLT3UMZys8"
      },
      "source": [
        "# Training sentences\r\n",
        "sentence1 = \"the lessee will pay the lessor for the premises herein described in the schedule a monthly rent of rs.8000/- ruppes eight thousand only.\" #this rental agreement made and executed at bangalore on this 1st day april two thousand eleven 01/04/2011 between prof. k. parthasarathy and mr. veerabrahmam bathini\"\r\n",
        "sentence2 = \"tenant is the proprietor of the business and he has agreed to pay rent rs.4,000.00 (rupees four thousand only) for above said premises with the following terms and conditions\"\r\n",
        "sentence3 = \"to pay as rental the sum of six thousand five hundred pesos ip 6.500.001 per month, due and payable in advance from the 20th day of every month.\""
      ],
      "execution_count": null,
      "outputs": []
    },
    {
      "cell_type": "code",
      "metadata": {
        "colab": {
          "base_uri": "https://localhost:8080/"
        },
        "id": "1llp7z0KaW0p",
        "outputId": "07e37b3c-ead3-4f53-be5b-1a71bd141f35"
      },
      "source": [
        "sentence1[99:108], sentence2[71:82], sentence3[63:70]"
      ],
      "execution_count": null,
      "outputs": [
        {
          "output_type": "execute_result",
          "data": {
            "text/plain": [
              "('rs.8000/-', 'rs.4,000.00', '6.500.0')"
            ]
          },
          "metadata": {
            "tags": []
          },
          "execution_count": 5
        }
      ]
    },
    {
      "cell_type": "code",
      "metadata": {
        "id": "t7jorZpxaVZq"
      },
      "source": [
        "# Let's first include only 1 sentence as training sample \r\n",
        "TRAIN_DATA = [\r\n",
        "    (\r\n",
        "        sentence1,\r\n",
        "        {\"entities\": [(99, 108, LABEL)]},\r\n",
        "    )\r\n",
        "]"
      ],
      "execution_count": null,
      "outputs": []
    },
    {
      "cell_type": "code",
      "metadata": {
        "colab": {
          "base_uri": "https://localhost:8080/"
        },
        "id": "fPLg8BB9myAE",
        "outputId": "9d3e4c5c-0182-4570-cc9f-ea33891d44cd"
      },
      "source": [
        "optimizer.eps"
      ],
      "execution_count": null,
      "outputs": [
        {
          "output_type": "execute_result",
          "data": {
            "text/plain": [
              "1e-08"
            ]
          },
          "metadata": {
            "tags": []
          },
          "execution_count": 17
        }
      ]
    },
    {
      "cell_type": "code",
      "metadata": {
        "id": "Qtdz8mQ1akfF"
      },
      "source": [
        "# Training pipeline\r\n",
        "\r\n",
        "def performTraining(model=None, new_model_name=\"money\", output_dir=None, n_iter=30, training_data=None):\r\n",
        "    \"\"\"Set up the pipeline and entity recognizer, and train the new entity.\"\"\"\r\n",
        "    if training_data is None:\r\n",
        "      print(\"No training data available\")\r\n",
        "    random.seed(0)\r\n",
        "    if model is not None:\r\n",
        "        nlp = spacy.load(model)  # load existing spaCy model\r\n",
        "        print(\"Loaded model '%s'\" % model)\r\n",
        "    else:\r\n",
        "        nlp = spacy.blank(\"en\")  # create blank Language class\r\n",
        "        print(\"Created blank 'en' model\")\r\n",
        "    # Add entity recognizer to model if it's not in the pipeline\r\n",
        "    # nlp.create_pipe works for built-ins that are registered with spaCy\r\n",
        "    if \"ner\" not in nlp.pipe_names:\r\n",
        "        ner = nlp.create_pipe(\"ner\")\r\n",
        "        nlp.add_pipe(ner)\r\n",
        "    # otherwise, get it, so we can add labels to it\r\n",
        "    else:\r\n",
        "        ner = nlp.get_pipe(\"ner\")\r\n",
        "\r\n",
        "    ner.add_label(LABEL)  # add new entity label to entity recognizer\r\n",
        "    # Adding extraneous labels shouldn't mess anything up\r\n",
        "    ner.add_label(\"VEGETABLE\")\r\n",
        "    if model is None:\r\n",
        "        optimizer = nlp.begin_training()\r\n",
        "    else:\r\n",
        "        optimizer = nlp.resume_training()\r\n",
        "    move_names = list(ner.move_names)\r\n",
        "    # get names of other pipes to disable them during training\r\n",
        "    pipe_exceptions = [\"ner\", \"trf_wordpiecer\", \"trf_tok2vec\"]\r\n",
        "    other_pipes = [pipe for pipe in nlp.pipe_names if pipe not in pipe_exceptions]\r\n",
        "    # only train NER\r\n",
        "    with nlp.disable_pipes(*other_pipes), warnings.catch_warnings():\r\n",
        "        # show warnings for misaligned entity spans once\r\n",
        "        warnings.filterwarnings(\"once\", category=UserWarning, module='spacy')\r\n",
        "\r\n",
        "        sizes = compounding(1.0, 4.0, 1.001)\r\n",
        "        # batch up the examples using spaCy's minibatch\r\n",
        "        for itn in range(n_iter):\r\n",
        "            random.shuffle(training_data)\r\n",
        "            batches = minibatch(training_data, size=sizes)\r\n",
        "            losses = {}\r\n",
        "            for batch in batches:\r\n",
        "                texts, annotations = zip(*batch)\r\n",
        "                nlp.update(texts, annotations, sgd=optimizer, drop=0.35, losses=losses)\r\n",
        "            print(\"Losses\", losses)\r\n",
        "\r\n",
        "    # test the trained model\r\n",
        "    test_text = \"This table cost me rs.5000/-\"\r\n",
        "    doc = nlp(test_text)\r\n",
        "    print(\"Entities in '%s'\" % test_text)\r\n",
        "    for ent in doc.ents:\r\n",
        "        print(\"Text: {} \\n Entity label: {}\".format(ent.text, ent.label_))\r\n",
        "\r\n",
        "    # save model to output directory\r\n",
        "    if output_dir is not None:\r\n",
        "        output_dir = Path(output_dir)\r\n",
        "        if not output_dir.exists():\r\n",
        "            output_dir.mkdir()\r\n",
        "        nlp.meta[\"name\"] = new_model_name  # rename model\r\n",
        "        nlp.to_disk(output_dir)\r\n",
        "        print(\"Saved model to\", output_dir)\r\n",
        "\r\n",
        "        # test the saved model\r\n",
        "        print(\"Loading from\", output_dir)\r\n",
        "        nlp2 = spacy.load(output_dir)\r\n",
        "        # Check the classes have loaded back consistently\r\n",
        "        assert nlp2.get_pipe(\"ner\").move_names == move_names\r\n",
        "        doc2 = nlp2(test_text)\r\n",
        "        for ent in doc2.ents:\r\n",
        "            print(ent.label_, ent.text)"
      ],
      "execution_count": null,
      "outputs": []
    },
    {
      "cell_type": "code",
      "metadata": {
        "colab": {
          "base_uri": "https://localhost:8080/"
        },
        "id": "uq3MMOBPbZeX",
        "outputId": "2150809e-ac7a-4d90-c781-54acbb0ff6de"
      },
      "source": [
        "# Let's call the training pipeline\r\n",
        "\r\n",
        "if __name__ == \"__main__\":\r\n",
        "    performTraining(model=None,new_model_name='money', output_dir=model_dir, n_iter=n_iter, training_data=TRAIN_DATA)"
      ],
      "execution_count": null,
      "outputs": [
        {
          "output_type": "stream",
          "text": [
            "Created blank 'en' model\n",
            "Losses {'ner': 21.599997997283936}\n",
            "Losses {'ner': 20.848118484020233}\n",
            "Losses {'ner': 19.84271776676178}\n",
            "Losses {'ner': 18.425461411476135}\n",
            "Losses {'ner': 16.71864342689514}\n",
            "Losses {'ner': 15.93656075000763}\n",
            "Losses {'ner': 11.4530930519104}\n",
            "Losses {'ner': 8.617580309510231}\n",
            "Losses {'ner': 5.762429267168045}\n",
            "Losses {'ner': 2.6686986149288714}\n",
            "Losses {'ner': 2.2013553264550865}\n",
            "Losses {'ner': 1.9739588457741775}\n",
            "Losses {'ner': 1.9223721206763003}\n",
            "Losses {'ner': 1.9330309255601605}\n",
            "Losses {'ner': 1.776848449835768}\n",
            "Losses {'ner': 1.8334963074832302}\n",
            "Losses {'ner': 1.5087327015342566}\n",
            "Losses {'ner': 1.8755208179717897}\n",
            "Losses {'ner': 1.794322657662974}\n",
            "Losses {'ner': 1.1032019947516574}\n",
            "Losses {'ner': 0.9559521437691956}\n",
            "Losses {'ner': 1.3516114754866067}\n",
            "Losses {'ner': 1.0330744386683364}\n",
            "Losses {'ner': 0.7807410949519635}\n",
            "Losses {'ner': 1.5702260074419598}\n",
            "Losses {'ner': 0.5926932974791725}\n",
            "Losses {'ner': 0.7051590615662917}\n",
            "Losses {'ner': 0.5648890975020926}\n",
            "Losses {'ner': 0.40390043773196815}\n",
            "Losses {'ner': 0.5018939074108206}\n",
            "Entities in 'This table cost me rs.5000/-'\n",
            "Saved model to ner_model\n",
            "Loading from ner_model\n"
          ],
          "name": "stdout"
        }
      ]
    },
    {
      "cell_type": "markdown",
      "metadata": {
        "id": "GRT3_iT-bkJq"
      },
      "source": [
        "The model couldn't identify money entity from the test sample.\r\n",
        "\r\n",
        "Let's add 2 more samples to the training data & call training pipeline once again."
      ]
    },
    {
      "cell_type": "code",
      "metadata": {
        "id": "kcORcl7BajWS"
      },
      "source": [
        "TRAIN_DATA = [\r\n",
        "    (\r\n",
        "        sentence1,\r\n",
        "        {\"entities\": [(99, 108, LABEL)]},\r\n",
        "    ),\r\n",
        "    (\r\n",
        "        sentence2,\r\n",
        "        {\"entities\": [(71, 82, LABEL)]},\r\n",
        "    ),\r\n",
        "    (\r\n",
        "        sentence3,\r\n",
        "        {\"entities\": [(63, 70, LABEL)]},\r\n",
        "    ),\r\n",
        "\r\n",
        "]"
      ],
      "execution_count": null,
      "outputs": []
    },
    {
      "cell_type": "code",
      "metadata": {
        "colab": {
          "base_uri": "https://localhost:8080/"
        },
        "id": "HApoMUDccllV",
        "outputId": "ab1c3cd5-fd5b-442d-9d99-afe400dd37af"
      },
      "source": [
        "# Let's call the training pipeline\r\n",
        "\r\n",
        "if __name__ == \"__main__\":\r\n",
        "    performTraining(model=None,new_model_name='money', output_dir=model_dir, n_iter=n_iter,training_data=TRAIN_DATA)"
      ],
      "execution_count": null,
      "outputs": [
        {
          "output_type": "stream",
          "text": [
            "Created blank 'en' model\n",
            "Losses {'ner': 73.32691694796085}\n",
            "Losses {'ner': 61.47118382900953}\n",
            "Losses {'ner': 35.03948091343045}\n",
            "Losses {'ner': 8.041758655977901}\n",
            "Losses {'ner': 3.987580961374519}\n",
            "Losses {'ner': 4.017226890122106}\n",
            "Losses {'ner': 3.993789373705496}\n",
            "Losses {'ner': 3.9941763617368466}\n",
            "Losses {'ner': 3.9287818586906766}\n",
            "Losses {'ner': 2.786556280392725}\n",
            "Losses {'ner': 2.527673382473438}\n",
            "Losses {'ner': 19.98103150883226}\n",
            "Losses {'ner': 3.061448617907526}\n",
            "Losses {'ner': 3.6678592957408505}\n",
            "Losses {'ner': 1.7260034068903338}\n",
            "Losses {'ner': 2.3383967845989346}\n",
            "Losses {'ner': 2.3364651348334133}\n",
            "Losses {'ner': 2.4578095383950336}\n",
            "Losses {'ner': 0.9475172279891622}\n",
            "Losses {'ner': 0.4963269995377414}\n",
            "Losses {'ner': 0.0222017013084767}\n",
            "Losses {'ner': 0.02028355797591746}\n",
            "Losses {'ner': 0.2358366756755483}\n",
            "Losses {'ner': 0.0016751272875501285}\n",
            "Losses {'ner': 0.00035194331929905656}\n",
            "Losses {'ner': 1.2418440735979232e-05}\n",
            "Losses {'ner': 0.0013183230154974071}\n",
            "Losses {'ner': 7.498649382270814e-07}\n",
            "Losses {'ner': 8.681502178696776e-07}\n",
            "Losses {'ner': 2.9747435883075536e-05}\n",
            "Entities in 'This table cost me rs.5000/-'\n",
            "Text: rs.5000/- \n",
            " Entity label: MONEY\n",
            "Saved model to ner_model\n",
            "Loading from ner_model\n",
            "MONEY rs.5000/-\n"
          ],
          "name": "stdout"
        }
      ]
    }
  ]
}